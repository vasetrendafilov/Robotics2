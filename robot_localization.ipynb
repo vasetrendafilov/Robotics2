{
 "cells": [
  {
   "cell_type": "markdown",
   "id": "112a1a3d",
   "metadata": {},
   "source": [
    "# Локализација на робот\n",
    "### Упатство како да се поврзете со Zethus\n",
    "\n",
    "- Пробај прво со `p.connect(p.GUI)`. Треба да се рендерира симулацијата во нов прозорец.\n",
    "- Изврши ја целата целата скрипта\n",
    "- Отоври Zethus и одбери ги следнте топикс:\n",
    "    1. Под категоријата Marker имаме топик `/cubes`\n",
    "    2. Под категоријата Pose имаме топик `/car`\n",
    "    3. Под категоријата Pose имаме топик `/filter`"
   ]
  },
  {
   "cell_type": "code",
   "execution_count": 1,
   "id": "8f0789ff-d610-44c4-b571-74f0a9be822b",
   "metadata": {},
   "outputs": [],
   "source": [
    "import time\n",
    "import numpy as np\n",
    "import ipywidgets as ipw\n",
    "import pybullet_data\n",
    "import pybullet as p"
   ]
  },
  {
   "cell_type": "code",
   "execution_count": 2,
   "id": "83e895c1-a390-4d53-bf06-22e5f1e5b1e7",
   "metadata": {},
   "outputs": [
    {
     "data": {
      "text/plain": [
       "0"
      ]
     },
     "execution_count": 2,
     "metadata": {},
     "output_type": "execute_result"
    }
   ],
   "source": [
    "p.connect(p.GUI) # p.DIRECT ако не работи"
   ]
  },
  {
   "cell_type": "code",
   "execution_count": 3,
   "id": "d267d28c-4b7b-4bec-97ef-abcbdf327094",
   "metadata": {},
   "outputs": [],
   "source": [
    "p.setAdditionalSearchPath(pybullet_data.getDataPath())"
   ]
  },
  {
   "cell_type": "markdown",
   "id": "45c0b90e",
   "metadata": {},
   "source": [
    "## ROS конуникација"
   ]
  },
  {
   "cell_type": "code",
   "execution_count": 4,
   "id": "57495925-4b4b-4354-b24c-8701804a0d83",
   "metadata": {},
   "outputs": [],
   "source": [
    "import rospy\n",
    "import jupyros\n",
    "from geometry_msgs.msg import PoseStamped, Point, Quaternion\n",
    "from visualization_msgs.msg import Marker\n",
    "import tf.transformations as tft\n",
    "rospy.init_node('CarNode')\n",
    "\n",
    "def get_msg_pose(target):\n",
    "    \"\"\" Returns PoseStamped message with target pose \"\"\"\n",
    "    ps = PoseStamped()\n",
    "    ps.header.stamp = rospy.Time.now()\n",
    "    ps.header.frame_id = 'Car'\n",
    "    position, orientation = target\n",
    "    ps.pose.position = Point(*position)\n",
    "    ps.pose.orientation = Quaternion(*orientation)\n",
    "    return ps\n",
    "\n",
    "def get_msg_marker(marker_id,target):\n",
    "    \"\"\" Returns Marker message with target pose \"\"\"\n",
    "    marker = Marker()\n",
    "    marker.header.stamp = rospy.Time.now();\n",
    "    marker.ns = \"my_namespace\";\n",
    "    marker.id = marker_id;\n",
    "    marker.type = Marker.CUBE;\n",
    "    marker.action = Marker.ADD;\n",
    "    position, orientation = target\n",
    "    marker.pose.position = Point(*position)\n",
    "    marker.pose.orientation = Quaternion(*orientation)\n",
    "    marker.scale.x = 1;\n",
    "    marker.scale.y = 1;\n",
    "    marker.scale.z = 1;\n",
    "    marker.color.a = 1.0; \n",
    "    marker.color.r = 0.4117;\n",
    "    marker.color.g = 0.4117;\n",
    "    marker.color.b = 0.4117;\n",
    "    return marker"
   ]
  },
  {
   "cell_type": "markdown",
   "id": "795cb3dd",
   "metadata": {},
   "source": [
    "## Класа за колата во pybullet"
   ]
  },
  {
   "cell_type": "code",
   "execution_count": 5,
   "id": "0c1c8fad-cf86-4ad7-b642-975f3f0f179c",
   "metadata": {},
   "outputs": [],
   "source": [
    "class Car:\n",
    "    def __init__(self, **kwargs):\n",
    "        self.bid = p.loadURDF('racecar/racecar.urdf', **kwargs)\n",
    "    \n",
    "    def set_velocity(self, velocity, force=10):\n",
    "        \"\"\" Set target velocity and force \"\"\"\n",
    "        for wheel in [2, 3, 5, 7]:\n",
    "            p.setJointMotorControl2(\n",
    "                self.bid, wheel, p.VELOCITY_CONTROL, \n",
    "                targetVelocity=velocity, force=force)\n",
    "    \n",
    "    def set_steering(self, angle):\n",
    "        \"\"\" Set steering angle \"\"\"\n",
    "        for hinge in [4, 6]: \n",
    "            p.setJointMotorControl2(\n",
    "                self.bid, hinge, p.POSITION_CONTROL, targetPosition=angle)\n",
    "    \n",
    "    def get_bt_pose(self):\n",
    "        \"\"\" Return car pose \"\"\"\n",
    "        return p.getBasePositionAndOrientation(self.bid)\n",
    "    \n",
    "    def get_bt_heading(self):\n",
    "        \"\"\" Return heading \"\"\"\n",
    "        _,q = p.getBasePositionAndOrientation(self.bid)\n",
    "        return np.arctan2(2.0*(q[0]*q[1] + q[3]*q[2]), q[3]*q[3] + q[0]*q[0] - q[1]*q[1] - q[2]*q[2])\n",
    "    \n",
    "    def get_bt_velocity(self):\n",
    "        \"\"\" Return linear velocity \"\"\"\n",
    "        linear,_ = p.getBaseVelocity(car.bid)\n",
    "        return np.sqrt(linear[0]**2 + linear[1]**2)"
   ]
  },
  {
   "cell_type": "markdown",
   "id": "d5ff6822",
   "metadata": {},
   "source": [
    "## Иницијализација на светот во pybullet"
   ]
  },
  {
   "cell_type": "code",
   "execution_count": 6,
   "id": "35ea8538-a0d2-43d8-b565-d3a6631ea6d4",
   "metadata": {},
   "outputs": [],
   "source": [
    "def init_world():\n",
    "    p.resetSimulation()\n",
    "    p.setGravity(0, 0, -10)\n",
    "    p.setRealTimeSimulation(False)\n",
    "    plane = p.loadURDF('plane.urdf')\n",
    "    car = Car(basePosition=[1, 1, 0])\n",
    "    cubes_pos = [(2,2),(4,-3),(-2,-4)] #set cube positions \n",
    "    cubes = []\n",
    "    for i,cube in enumerate(cubes_pos):\n",
    "        cubes.append(p.loadURDF('cube.urdf', basePosition=[cube[0],cube[1],0.5]))\n",
    "    return car,cubes\n",
    "\n",
    "car,cubes = init_world()"
   ]
  },
  {
   "cell_type": "markdown",
   "id": "e34e118f",
   "metadata": {},
   "source": [
    "## Модел за движење на автомобилот\n",
    "Автомобилот се управува со вртење на предните гуми додека се движи. Предниот дел на автомобилот се движи во насока во која се насочени тркалата додека се вртат околу задните. Овој едноставен опис е комплициран поради проблеми како што се лизгање поради триење, различното однесување на гумите при различни брзини и потребата надворешната гума да патува во различен радиус од внатрешната гума. Прецизното моделирање на управувањето бара комплициран сет на диференцијални равенки.\n",
    "\n",
    "![](car.png)\n",
    "\n",
    "Овде гледаме дека предната гума е насочена во насока $\\alpha$ во однос на меѓуоскиното растојание. За краток временски период автомобилот се движи напред, а задното тркало завршува понапред и малку свртено навнатре, како што е прикажано со сината гума. За толку кратка временска рамка, можеме да го приближиме ова како вртење околу радиусот $R$. Можеме да го пресметаме аголот на вртење $\\beta$ со\n",
    "\n",
    "$$\\beta = \\frac{d}{w} \\tan{(\\alpha)}$$\n",
    "\n",
    "а радиусот на вртење R е даден со\n",
    "\n",
    "$$R = \\frac{d}{\\beta}$$\n",
    "\n",
    "каде што растојанието што го поминува задното тркало со оглед на брзината $v$ е $d=v\\Delta t$.\n",
    "\n",
    "Со тоа што $\\theta$ е ориентацијата на колата, ја пресметуваме позицијата $C$ пред да започне вртењето како\n",
    "\n",
    "\n",
    "$$\\begin{aligned}\n",
    "C_x &= x - R\\sin(\\theta) \\\\\n",
    "C_y &= y + R\\cos(\\theta)\n",
    "\\end{aligned}$$\n",
    "\n",
    "По движењето напред за време $\\Delta t$ новата позиција и ориентација на колата е\n",
    "\n",
    "$$\\begin{aligned} \\bar x &= C_x + R\\sin(\\theta + \\beta) \\\\\n",
    "\\bar y &= C_y - R\\cos(\\theta + \\beta) \\\\\n",
    "\\bar \\theta &= \\theta + \\beta\n",
    "\\end{aligned}\n",
    "$$\n",
    "\n",
    "Откако ќе замениме за $C$ добиваме\n",
    "\n",
    "$$\\begin{aligned} \\bar x &= x - R\\sin(\\theta) + R\\sin(\\theta + \\beta) \\\\\n",
    "\\bar y &= y + R\\cos(\\theta) - R\\cos(\\theta + \\beta) \\\\\n",
    "\\bar \\theta &= \\theta + \\beta\n",
    "\\end{aligned}\n",
    "$$\n",
    "\n",
    "### Дизајнирање на состејбените променливи \n",
    "\n",
    "За нашиот робот ќе ја задржиме позицијата и ориентацијата:\n",
    "\n",
    "$$\\mathbf x = \\begin{bmatrix}x & y & \\theta\\end{bmatrix}^\\mathsf{T}$$\n",
    "\n",
    "Контролниот влез $\\mathbf{u}$ е командната брзина и аголот на управување\n",
    "\n",
    "$$\\mathbf{u} = \\begin{bmatrix}v & \\alpha\\end{bmatrix}^\\mathsf{T}$$"
   ]
  },
  {
   "cell_type": "code",
   "execution_count": 7,
   "id": "2f9da11a",
   "metadata": {},
   "outputs": [],
   "source": [
    "def Fx(x, dt, u):\n",
    "    \"\"\" State trainsition model that returns x,y and heading, u is the velocity and steering angle from the car \"\"\"\n",
    "    heading = x[2]\n",
    "    velocity = u[0]\n",
    "    steering_angle = u[1]\n",
    "    dist = velocity * dt\n",
    "    if abs(steering_angle) > 0.001: # is robot turning?\n",
    "        beta = (dist / wheelbase) * np.tan(steering_angle)\n",
    "        r = wheelbase / np.tan(steering_angle) # radius\n",
    "        sinh, sinhb = np.sin(heading), np.sin(heading + beta)\n",
    "        cosh, coshb = np.cos(heading), np.cos(heading + beta)\n",
    "        return x + np.array([-r*sinh + r*sinhb, \n",
    "                              r*cosh - r*coshb, beta])\n",
    "    else: # moving in straight line\n",
    "        return x + np.array([dist*np.cos(heading), dist*np.sin(heading), 0])"
   ]
  },
  {
   "cell_type": "markdown",
   "id": "e1dc0d9f",
   "metadata": {},
   "source": [
    "### Дизајнирање на мерниот модел\n",
    "\n",
    "Сензорот обезбедува беринг и растојание до повеќе познати локации во светот. Мерниот модел ке ги конвертира состојбите $\\begin{bmatrix}x & y&\\theta\\end{bmatrix}^\\mathsf{T}$ во беринг и ратојание до коцката. Ако $p$ е позиција на обележје, растојанието $r$ е\n",
    "\n",
    "$$r = \\sqrt{(p_x - x)^2 + (p_y - y)^2}$$\n",
    "\n",
    "Претпоставуваме дека сензорот обезбедува беринг во однос на ориентацијата на роботот, така што мора да ја одземеме ориентацијата на роботот од лежиштето за да го добиеме читањето на сензорот:\n",
    "\n",
    "$$\\phi = \\tan^{-1}(\\frac{p_y - y}{p_x - x}) - \\theta$$\n",
    "\n",
    "Така нашата мерна функција е\n",
    "\n",
    "$$\\begin{aligned}\n",
    "\\mathbf{z}& = h(\\mathbf x, \\mathbf P) &+ \\mathcal{N}(0, R)\\\\\n",
    "&= \\begin{bmatrix}\n",
    "\\sqrt{(p_x - x)^2 + (p_y - y)^2} \\\\\n",
    "\\tan^{-1}(\\frac{p_y - y}{p_x - x}) - \\theta \n",
    "\\end{bmatrix} &+ \\mathcal{N}(0, R)\n",
    "\\end{aligned}$$"
   ]
  },
  {
   "cell_type": "code",
   "execution_count": 8,
   "id": "d3633ccc-ce88-4c04-8861-d80e1e9ff068",
   "metadata": {},
   "outputs": [],
   "source": [
    "def Hx(x, cubes):\n",
    "    \"\"\" Measurment model that computes distance and bering to an array of cubes \"\"\"\n",
    "    hx = []\n",
    "    for cube in cubes: \n",
    "        px, py ,_= p.getBasePositionAndOrientation(cube)[0]\n",
    "        dist = np.sqrt((px - x[0])**2 + (py - x[1])**2)\n",
    "        angle = np.arctan2(py - x[1], px - x[0])\n",
    "        hx.extend([dist, normalize_angle(angle - x[2])])\n",
    "    return np.array(hx)"
   ]
  },
  {
   "cell_type": "markdown",
   "id": "7fdb02ad-3f72-4024-b221-95a823a69562",
   "metadata": {},
   "source": [
    "## Помошни функции за имплементација на моделот во UKF"
   ]
  },
  {
   "cell_type": "code",
   "execution_count": 10,
   "id": "d036fb7b-0d25-4567-a79f-630a5acf3abe",
   "metadata": {},
   "outputs": [],
   "source": [
    "def normalize_angle(x):\n",
    "    \"\"\" Returns normalized angle \"\"\"\n",
    "    x = x % (2 * np.pi)    # force in range [0, 2 pi)\n",
    "    if x > np.pi:          # move to [-pi, pi)\n",
    "        x -= 2 * np.pi\n",
    "    return x\n",
    "\n",
    "def residual_h(a, b):\n",
    "    \"\"\" Rewriting residual_h to handle many cubes \"\"\"\n",
    "    y = a - b\n",
    "    # data in format [dist_1, bearing_1, dist_2, bearing_2,...]\n",
    "    for i in range(0, len(y), 2):\n",
    "        y[i + 1] = normalize_angle(y[i + 1])\n",
    "    return y\n",
    "\n",
    "def residual_x(a, b):\n",
    "    \"\"\" Rewriting residual_x to normalize heading \"\"\"\n",
    "    y = a - b\n",
    "    y[2] = normalize_angle(y[2])\n",
    "    return y\n",
    "\n",
    "def state_mean(sigmas, Wm):\n",
    "    \"\"\" Rewriting state_mean to be faster with numpy and compute average of a set of angles \"\"\"\n",
    "    x = np.zeros(3)\n",
    "    sum_sin = np.sum(np.dot(np.sin(sigmas[:, 2]), Wm))\n",
    "    sum_cos = np.sum(np.dot(np.cos(sigmas[:, 2]), Wm))\n",
    "    x[0] = np.sum(np.dot(sigmas[:, 0], Wm))\n",
    "    x[1] = np.sum(np.dot(sigmas[:, 1], Wm))\n",
    "    x[2] = np.arctan2(sum_sin, sum_cos)\n",
    "    return x\n",
    "\n",
    "def z_mean(sigmas, Wm):\n",
    "    \"\"\" Rewriting z_mean to be faster with numpy and compute average of a set of angles \"\"\"\n",
    "    z_count = sigmas.shape[1]\n",
    "    x = np.zeros(z_count)\n",
    "    for z in range(0, z_count, 2):\n",
    "        sum_sin = np.sum(np.dot(np.sin(sigmas[:, z+1]), Wm))\n",
    "        sum_cos = np.sum(np.dot(np.cos(sigmas[:, z+1]), Wm))\n",
    "        x[z] = np.sum(np.dot(sigmas[:,z], Wm))\n",
    "        x[z+1] = np.arctan2(sum_sin, sum_cos)\n",
    "    return x"
   ]
  },
  {
   "cell_type": "markdown",
   "id": "ad1e9dfd",
   "metadata": {},
   "source": [
    "## Имплементирање на UKF"
   ]
  },
  {
   "cell_type": "code",
   "execution_count": 11,
   "id": "16b06a84-98dc-4c94-8e97-ff1910fc9c96",
   "metadata": {},
   "outputs": [],
   "source": [
    "from filterpy.kalman import MerweScaledSigmaPoints\n",
    "from filterpy.kalman import UnscentedKalmanFilter as UKF\n",
    "\n",
    "dt = 1/60 # framerate of the simulation\n",
    "wheelbase = 0.3 # distance between the cars wheels\n",
    "sigma_range,sigma_bearing=0.3 , 0.1 # measurement noise\n",
    "\n",
    "points = MerweScaledSigmaPoints(n=3, alpha=.00001, beta=2, kappa=0, \n",
    "                                subtract=residual_x)\n",
    "ukf = UKF(dim_x=3, dim_z=2*len(cubes), fx=Fx, hx=Hx,\n",
    "          dt=dt, points=points, x_mean_fn=state_mean, \n",
    "          z_mean_fn=z_mean, residual_x=residual_x, \n",
    "          residual_z=residual_h)\n",
    "\n",
    "ukf.x = np.array([1, 1, .1]) # initial car pose\n",
    "ukf.P = np.diag([.1, .1, .05])\n",
    "ukf.R = np.diag([sigma_range**2, \n",
    "                 sigma_bearing**2]*len(cubes))\n",
    "ukf.Q = np.eye(3)*0.0001"
   ]
  },
  {
   "cell_type": "markdown",
   "id": "a1ea8275",
   "metadata": {},
   "source": [
    "## Widget за контрола на колата"
   ]
  },
  {
   "cell_type": "code",
   "execution_count": 12,
   "id": "aaf09eb2-7ec6-41cf-b6c8-a60566f609a2",
   "metadata": {},
   "outputs": [
    {
     "data": {
      "application/vnd.jupyter.widget-view+json": {
       "model_id": "bfd7840d6df04fae865574a4daad5eb3",
       "version_major": 2,
       "version_minor": 0
      },
      "text/plain": [
       "VBox(children=(FloatSlider(value=0.0, description='Волан:', max=0.5, min=-0.5, step=0.05), IntSlider(value=0, …"
      ]
     },
     "metadata": {},
     "output_type": "display_data"
    }
   ],
   "source": [
    "def cb_steering(change):\n",
    "    car.set_steering(-change.new)\n",
    "\n",
    "wd_steering = ipw.FloatSlider(\n",
    "    value=0, min=-0.5, max=0.5, step=0.05, continuous_update=True, \n",
    "    description='Волан:')\n",
    "wd_steering.observe(cb_steering, names='value')\n",
    "\n",
    "\n",
    "def cb_velocity(change):\n",
    "    car.set_velocity(change.new)\n",
    "\n",
    "wd_velocity = ipw.IntSlider(\n",
    "    value=0, min=-10, max=30, step=1, continuous_update=True, \n",
    "    description='Брзина:')\n",
    "wd_velocity.observe(cb_velocity, names='value')\n",
    "\n",
    "ipw.VBox([wd_steering, wd_velocity])"
   ]
  },
  {
   "cell_type": "markdown",
   "id": "87b77c85",
   "metadata": {},
   "source": [
    "## Нишка за симулација во pybullet и обновување на филтерот"
   ]
  },
  {
   "cell_type": "code",
   "execution_count": 13,
   "id": "a447f436-5bb3-4189-95b9-85ef05ead386",
   "metadata": {},
   "outputs": [
    {
     "data": {
      "application/vnd.jupyter.widget-view+json": {
       "model_id": "b2ff9a4fbed84f8fb12f4530a9933208",
       "version_major": 2,
       "version_minor": 0
      },
      "text/plain": [
       "Output(layout=Layout(border='1px solid gray'))"
      ]
     },
     "metadata": {},
     "output_type": "display_data"
    }
   ],
   "source": [
    "%%thread_cell\n",
    "\n",
    "rate = rospy.Rate(60)\n",
    "# create rospy publishers so send data to zethus\n",
    "pub_car = rospy.Publisher('/car', PoseStamped, queue_size=10)\n",
    "pub_filter = rospy.Publisher('/filter', PoseStamped, queue_size=10)\n",
    "vis_pub = rospy.Publisher('/cubes', Marker, queue_size=10)\n",
    "while True:\n",
    "    p.stepSimulation()\n",
    "    ukf.predict(u=(car.get_bt_velocity(),wd_steering.value))\n",
    "    x,y,_ = car.get_bt_pose()[0] # get current pose of the car \n",
    "    z = []\n",
    "    for cube in cubes: # simulate reading from sensor for each cube\n",
    "        px, py ,_= p.getBasePositionAndOrientation(cube)[0]\n",
    "        distance = np.sqrt((px - x)**2 + (py - y)**2) + np.random.randn()*sigma_range # add noise to the distance\n",
    "        bearing = np.arctan2(py - y, px - x)\n",
    "        angle = (normalize_angle(bearing - car.get_bt_heading() + np.random.randn()*sigma_bearing)) # add noise to the bering\n",
    "        z.extend([distance, angle])\n",
    "        vis_pub.publish(get_msg_marker(cube,p.getBasePositionAndOrientation(cube))) # send curent pose of each cube\n",
    "        \n",
    "    ukf.update(z,cubes=cubes)\n",
    "    # send real and filtered pose\n",
    "    pub_car.publish(get_msg_pose(car.get_bt_pose()))\n",
    "    euler = p.getEulerFromQuaternion(car.get_bt_pose()[1])\n",
    "    pub_filter.publish(get_msg_pose([(ukf.x[0], ukf.x[1], 0), p.getQuaternionFromEuler([euler[0], euler[1], ukf.x[2]])] ))\n",
    "    rate.sleep()"
   ]
  }
 ],
 "metadata": {
  "kernelspec": {
   "display_name": "Python 3 (ipykernel)",
   "language": "python",
   "name": "python3"
  },
  "language_info": {
   "codemirror_mode": {
    "name": "ipython",
    "version": 3
   },
   "file_extension": ".py",
   "mimetype": "text/x-python",
   "name": "python",
   "nbconvert_exporter": "python",
   "pygments_lexer": "ipython3",
   "version": "3.8.12"
  }
 },
 "nbformat": 4,
 "nbformat_minor": 5
}
